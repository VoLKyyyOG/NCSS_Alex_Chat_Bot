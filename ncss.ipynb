{
 "cells": [
  {
   "cell_type": "markdown",
   "metadata": {},
   "source": [
    "## Problem 1"
   ]
  },
  {
   "cell_type": "code",
   "execution_count": 3,
   "metadata": {
    "ExecuteTime": {
     "end_time": "2019-12-14T05:20:54.854450Z",
     "start_time": "2019-12-14T05:20:50.284933Z"
    }
   },
   "outputs": [
    {
     "name": "stdout",
     "output_type": "stream",
     "text": [
      " * Serving Flask app \"__main__\" (lazy loading)\n",
      " * Environment: production\n",
      "   WARNING: This is a development server. Do not use it in a production deployment.\n",
      "   Use a production WSGI server instead.\n",
      " * Debug mode: off\n"
     ]
    },
    {
     "name": "stderr",
     "output_type": "stream",
     "text": [
      " * Running on http://127.0.0.1:5000/ (Press CTRL+C to quit)\n",
      "127.0.0.1 - - [14/Dec/2019 16:20:51] \"GET / HTTP/1.1\" 200 -\n"
     ]
    }
   ],
   "source": [
    "from flask import Flask\n",
    "\n",
    "# Create a web server\n",
    "app = Flask(__name__)\n",
    "\n",
    "# When people visit the home page \n",
    "# use the hello_world function\n",
    "@app.route('/')\n",
    "def hello_ncss():\n",
    "    return 'Hello, NCSS!'\n",
    "\n",
    "# Start the web server!\n",
    "app.run()"
   ]
  },
  {
   "cell_type": "markdown",
   "metadata": {},
   "source": [
    "## Problem 2"
   ]
  },
  {
   "cell_type": "code",
   "execution_count": 7,
   "metadata": {
    "ExecuteTime": {
     "end_time": "2019-12-14T05:23:05.895575Z",
     "start_time": "2019-12-14T05:22:51.900060Z"
    }
   },
   "outputs": [
    {
     "name": "stdout",
     "output_type": "stream",
     "text": [
      " * Serving Flask app \"__main__\" (lazy loading)\n",
      " * Environment: production\n",
      "   WARNING: This is a development server. Do not use it in a production deployment.\n",
      "   Use a production WSGI server instead.\n",
      " * Debug mode: off\n"
     ]
    },
    {
     "name": "stderr",
     "output_type": "stream",
     "text": [
      " * Running on http://127.0.0.1:5000/ (Press CTRL+C to quit)\n",
      "127.0.0.1 - - [14/Dec/2019 16:22:53] \"GET / HTTP/1.1\" 200 -\n",
      "127.0.0.1 - - [14/Dec/2019 16:22:57] \"GET /about HTTP/1.1\" 200 -\n"
     ]
    }
   ],
   "source": [
    "from flask import Flask\n",
    "\n",
    "# Create a web server\n",
    "app = Flask(__name__)\n",
    "\n",
    "# When people visit the home page \n",
    "# use the hello_world function\n",
    "@app.route('/')\n",
    "def home():\n",
    "    return 'This is the home page'\n",
    "\n",
    "@app.route('/about')\n",
    "def about():\n",
    "    return 'This is the about page'\n",
    "\n",
    "# Start the web server!\n",
    "app.run()"
   ]
  },
  {
   "cell_type": "markdown",
   "metadata": {},
   "source": [
    "## Problem 3"
   ]
  },
  {
   "cell_type": "code",
   "execution_count": 9,
   "metadata": {
    "ExecuteTime": {
     "end_time": "2019-12-14T05:25:46.691167Z",
     "start_time": "2019-12-14T05:25:08.604394Z"
    }
   },
   "outputs": [
    {
     "name": "stdout",
     "output_type": "stream",
     "text": [
      " * Serving Flask app \"__main__\" (lazy loading)\n",
      " * Environment: production\n",
      "   WARNING: This is a development server. Do not use it in a production deployment.\n",
      "   Use a production WSGI server instead.\n",
      " * Debug mode: off\n"
     ]
    },
    {
     "name": "stderr",
     "output_type": "stream",
     "text": [
      " * Running on http://127.0.0.1:5000/ (Press CTRL+C to quit)\n",
      "127.0.0.1 - - [14/Dec/2019 16:25:09] \"GET / HTTP/1.1\" 404 -\n",
      "127.0.0.1 - - [14/Dec/2019 16:25:18] \"GET /hello HTTP/1.1\" 404 -\n",
      "127.0.0.1 - - [14/Dec/2019 16:25:22] \"GET /hello/awd HTTP/1.1\" 200 -\n"
     ]
    }
   ],
   "source": [
    "from flask import Flask\n",
    "\n",
    "# Create a web server\n",
    "app = Flask(__name__)\n",
    "\n",
    "# When people visit the home page \n",
    "# use the hello_world function\n",
    "@app.route('/hello/<name>')\n",
    "def home(name):\n",
    "    return f'Hello, {name}'\n",
    "\n",
    "# Start the web server!\n",
    "app.run()"
   ]
  },
  {
   "cell_type": "markdown",
   "metadata": {},
   "source": [
    "## Problem 4"
   ]
  },
  {
   "cell_type": "code",
   "execution_count": 10,
   "metadata": {
    "ExecuteTime": {
     "end_time": "2019-12-14T05:27:00.673080Z",
     "start_time": "2019-12-14T05:26:47.581050Z"
    }
   },
   "outputs": [
    {
     "name": "stdout",
     "output_type": "stream",
     "text": [
      " * Serving Flask app \"__main__\" (lazy loading)\n",
      " * Environment: production\n",
      "   WARNING: This is a development server. Do not use it in a production deployment.\n",
      "   Use a production WSGI server instead.\n",
      " * Debug mode: off\n"
     ]
    },
    {
     "name": "stderr",
     "output_type": "stream",
     "text": [
      " * Running on http://127.0.0.1:5000/ (Press CTRL+C to quit)\n",
      "127.0.0.1 - - [14/Dec/2019 16:26:48] \"GET / HTTP/1.1\" 404 -\n",
      "127.0.0.1 - - [14/Dec/2019 16:26:54] \"GET /loves/akira/memes HTTP/1.1\" 200 -\n"
     ]
    }
   ],
   "source": [
    "from flask import Flask\n",
    "\n",
    "# Create a web server\n",
    "app = Flask(__name__)\n",
    "\n",
    "# When people visit the home page \n",
    "# use the hello_world function\n",
    "@app.route('/loves/<first>/<second>')\n",
    "def loves(first, second):\n",
    "    return f'{first} loves {second}!'\n",
    "\n",
    "# Start the web server!\n",
    "app.run()"
   ]
  },
  {
   "cell_type": "markdown",
   "metadata": {},
   "source": [
    "## Problem 5"
   ]
  },
  {
   "cell_type": "code",
   "execution_count": 18,
   "metadata": {
    "ExecuteTime": {
     "end_time": "2019-12-14T05:37:35.045681Z",
     "start_time": "2019-12-14T05:37:03.410234Z"
    }
   },
   "outputs": [
    {
     "name": "stdout",
     "output_type": "stream",
     "text": [
      " * Serving Flask app \"__main__\" (lazy loading)\n",
      " * Environment: production\n",
      "   WARNING: This is a development server. Do not use it in a production deployment.\n",
      "   Use a production WSGI server instead.\n",
      " * Debug mode: off\n"
     ]
    },
    {
     "name": "stderr",
     "output_type": "stream",
     "text": [
      " * Running on http://127.0.0.1:5000/ (Press CTRL+C to quit)\n",
      "127.0.0.1 - - [14/Dec/2019 16:37:04] \"GET / HTTP/1.1\" 404 -\n",
      "127.0.0.1 - - [14/Dec/2019 16:37:29] \"GET /weather?day=4&umbrella=no HTTP/1.1\" 200 -\n"
     ]
    }
   ],
   "source": [
    "from flask import Flask, request\n",
    "\n",
    "DAYS = {\n",
    "  '1': 'rain',\n",
    "  '2': 'sunny',\n",
    "  '3': 'rain',\n",
    "  '4': 'cloudy',\n",
    "  '5': 'rain',\n",
    "  '6': 'rain',\n",
    "  '7': 'sunny',\n",
    "}\n",
    "\n",
    "app = Flask(__name__)\n",
    "\n",
    "@app.route('/weather')\n",
    "def weather():\n",
    "    umbrella = request.args[\"umbrella\"]\n",
    "    day = request.args[\"day\"]\n",
    "    \n",
    "    if DAYS[day] == \"rain\" and umbrella == \"yes\":\n",
    "        return \"Rain. Lucky you have an umbrella!\"\n",
    "    elif DAYS[day] == \"rain\" and umbrella == \"no\":\n",
    "        return \"Rain. You are going to get wet!\"\n",
    "    else:\n",
    "        return \"No rain today!\"\n",
    "\n",
    "app.run()"
   ]
  },
  {
   "cell_type": "markdown",
   "metadata": {},
   "source": [
    "## Problem 6"
   ]
  },
  {
   "cell_type": "code",
   "execution_count": 18,
   "metadata": {
    "ExecuteTime": {
     "end_time": "2019-12-20T06:18:12.403106Z",
     "start_time": "2019-12-20T06:18:03.995122Z"
    }
   },
   "outputs": [
    {
     "name": "stdout",
     "output_type": "stream",
     "text": [
      " * Serving Flask app \"__main__\" (lazy loading)\n",
      " * Environment: production\n",
      "   WARNING: This is a development server. Do not use it in a production deployment.\n",
      "   Use a production WSGI server instead.\n",
      " * Debug mode: off\n"
     ]
    },
    {
     "name": "stderr",
     "output_type": "stream",
     "text": [
      " * Running on http://127.0.0.1:5000/ (Press CTRL+C to quit)\n",
      "127.0.0.1 - - [20/Dec/2019 17:18:05] \"GET /phone_numbers/Akira HTTP/1.1\" 200 -\n"
     ]
    }
   ],
   "source": [
    "from flask import Flask, jsonify\n",
    "\n",
    "app = Flask(__name__)\n",
    "\n",
    "NUMS = {\n",
    "    \"Akira\": {\n",
    "        \"name\": \"Akira\",\n",
    "        \"number\": \"0418868336\",\n",
    "    },\n",
    "    \"test\": {\n",
    "        \"name\": \"test\",\n",
    "        \"number\": \"124813984501\"\n",
    "    }\n",
    "}\n",
    "\n",
    "@app.route('/phone_numbers/')\n",
    "def print_all():\n",
    "    return jsonify(NUMS)\n",
    "\n",
    "@app.route('/phone_numbers/<name>')\n",
    "def print_number(name):\n",
    "    return f\"{name}'s phone number is {NUMS[name]['number']}\"\n",
    "\n",
    "\n",
    "app.run()"
   ]
  },
  {
   "cell_type": "markdown",
   "metadata": {},
   "source": [
    "## Flask irl"
   ]
  },
  {
   "cell_type": "code",
   "execution_count": 6,
   "metadata": {
    "ExecuteTime": {
     "end_time": "2019-12-23T01:42:40.485660Z",
     "start_time": "2019-12-23T01:42:39.738156Z"
    }
   },
   "outputs": [
    {
     "name": "stdout",
     "output_type": "stream",
     "text": [
      "{\"author\":\"ACK bot\",\"text\":\"I got your message\"}\n",
      "\n"
     ]
    }
   ],
   "source": [
    "import requests\n",
    "\n",
    "response = requests.get('https://ncssflask.akiratwang.repl.co/ack')\n",
    "print(response.text)"
   ]
  },
  {
   "cell_type": "code",
   "execution_count": null,
   "metadata": {},
   "outputs": [],
   "source": []
  },
  {
   "cell_type": "code",
   "execution_count": null,
   "metadata": {},
   "outputs": [],
   "source": []
  },
  {
   "cell_type": "code",
   "execution_count": null,
   "metadata": {},
   "outputs": [],
   "source": []
  },
  {
   "cell_type": "code",
   "execution_count": null,
   "metadata": {},
   "outputs": [],
   "source": []
  },
  {
   "cell_type": "code",
   "execution_count": null,
   "metadata": {},
   "outputs": [],
   "source": []
  },
  {
   "cell_type": "code",
   "execution_count": null,
   "metadata": {},
   "outputs": [],
   "source": []
  },
  {
   "cell_type": "code",
   "execution_count": null,
   "metadata": {},
   "outputs": [],
   "source": []
  },
  {
   "cell_type": "code",
   "execution_count": null,
   "metadata": {},
   "outputs": [],
   "source": []
  },
  {
   "cell_type": "code",
   "execution_count": null,
   "metadata": {},
   "outputs": [],
   "source": []
  },
  {
   "cell_type": "code",
   "execution_count": null,
   "metadata": {},
   "outputs": [],
   "source": []
  }
 ],
 "metadata": {
  "kernelspec": {
   "display_name": "Python 3",
   "language": "python",
   "name": "python3"
  },
  "language_info": {
   "codemirror_mode": {
    "name": "ipython",
    "version": 3
   },
   "file_extension": ".py",
   "mimetype": "text/x-python",
   "name": "python",
   "nbconvert_exporter": "python",
   "pygments_lexer": "ipython3",
   "version": "3.6.9"
  },
  "latex_envs": {
   "LaTeX_envs_menu_present": true,
   "autoclose": false,
   "autocomplete": true,
   "bibliofile": "biblio.bib",
   "cite_by": "apalike",
   "current_citInitial": 1,
   "eqLabelWithNumbers": true,
   "eqNumInitial": 1,
   "hotkeys": {
    "equation": "Ctrl-E",
    "itemize": "Ctrl-I"
   },
   "labels_anchors": false,
   "latex_user_defs": false,
   "report_style_numbering": false,
   "user_envs_cfg": false
  }
 },
 "nbformat": 4,
 "nbformat_minor": 2
}
